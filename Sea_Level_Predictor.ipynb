{
  "metadata": {
    "kernelspec": {
      "name": "python",
      "display_name": "Python (Pyodide)",
      "language": "python"
    },
    "language_info": {
      "codemirror_mode": {
        "name": "python",
        "version": 3
      },
      "file_extension": ".py",
      "mimetype": "text/x-python",
      "name": "python",
      "nbconvert_exporter": "python",
      "pygments_lexer": "ipython3",
      "version": "3.8"
    }
  },
  "nbformat_minor": 4,
  "nbformat": 4,
  "cells": [
    {
      "cell_type": "code",
      "source": "import pandas as pd\nimport matplotlib.pyplot as plt\nfrom scipy.stats import linregress\n\ndraw_plot()\n\n\ndef draw_plot():\n    # Read data from file\n    file = pd.read_csv('epa-sea-level.csv')\n\n    # Create scatter plot\n\n    x=file['Year']\n    y=file['CSIRO Adjusted Sea Level']\n\n    plt.scatter(x,y)\n\n    # Create first line of best fit\n    res = linregress(x, y)\n    plt.plot(range(1880, 2051, 1), res.slope * range(1880, 2051, 1) + res.intercept,color='red')\n\n    # Create second line of best fit\n    res_2000_2012 = linregress(file.query('Year >= 2000')['Year'], \n                              file.query('Year >= 2000')['CSIRO Adjusted Sea Level'])\n    plt.plot(range(2000, 2051, 1), res_2000_2012.slope * range(2000, 2051, 1) + res_2000_2012.intercept,color='green')\n\n    # Add labels and title\n    plt.title('Rise in Sea Level')\n    plt.ylabel('Sea Level (inches)')\n    plt.xlabel('Year')\n    \n    # Save plot and return data for testing (DO NOT MODIFY)\n    plt.savefig('sea_level_plot.png')\n    return plt.gca()\n\n",
      "metadata": {
        "trusted": true
      },
      "outputs": [],
      "execution_count": null
    },
    {
      "cell_type": "code",
      "source": "print('hello')",
      "metadata": {
        "trusted": true
      },
      "outputs": [
        {
          "name": "stdout",
          "text": "hello\n",
          "output_type": "stream"
        }
      ],
      "execution_count": 1
    },
    {
      "cell_type": "code",
      "source": "",
      "metadata": {
        "trusted": true
      },
      "outputs": [],
      "execution_count": null
    }
  ]
}